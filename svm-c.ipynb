{
 "cells": [
  {
   "cell_type": "code",
   "execution_count": null,
   "metadata": {},
   "outputs": [],
   "source": [
    "#!/usr/bin/python\n",
    "# -*- coding:utf-8 -*-\n",
    "\n",
    "import numpy as np\n",
    "from sklearn.metrics import accuracy_score\n",
    "from sklearn.metrics import precision_score, recall_score, f1_score, fbeta_score\n",
    "from sklearn.metrics import precision_recall_fscore_support, classification_report\n",
    "\n",
    "\n",
    "if __name__ == \"__main__\":\n",
    "    y_true = np.array([1, 1, 1, 1, 0, 0])\n",
    "    y_pred = np.array([1, 1, 1, 0, 0, 1])\n",
    "    print('Accuracy：\\t', accuracy_score(y_true, y_pred))\n",
    "\n",
    "    # The precision is the ratio 'tp / (tp + fp)' where 'tp' is the number of\n",
    "    # true positives and 'fp' the number of false positives. The precision is\n",
    "    # intuitively the ability of the classifier not to label as positive a sample\n",
    "    # that is negative.\n",
    "    # The best value is 1 and the worst value is 0.\n",
    "    precision = precision_score(y_true, y_pred)\n",
    "    print('Precision:\\t', precision)\n",
    "\n",
    "    # The recall is the ratio 'tp / (tp + fn)' where 'tp' is the number of\n",
    "    # true positives and 'fn' the number of false negatives. The recall is\n",
    "    # intuitively the ability of the classifier to find all the positive samples.\n",
    "    # The best value is 1 and the worst value is 0.\n",
    "    recall = recall_score(y_true, y_pred)\n",
    "    print('Recall:  \\t', recall)\n",
    "\n",
    "    # F1 score, also known as balanced F-score or F-measure\n",
    "    # The F1 score can be interpreted as a weighted average of the precision and\n",
    "    # recall, where an F1 score reaches its best value at 1 and worst score at 0.\n",
    "    # The relative contribution of precision and recall to the F1 score are\n",
    "    # equal. The formula for the F1 score is:\n",
    "    #     F1 = 2 * (precision * recall) / (precision + recall)\n",
    "    print('f1 score: \\t', f1_score(y_true, y_pred))\n",
    "    print(2 * (precision * recall) / (precision + recall))\n",
    "\n",
    "    # The F-beta score is the weighted harmonic mean of precision and recall,\n",
    "    # reaching its optimal value at 1 and its worst value at 0.\n",
    "    # The 'beta' parameter determines the weight of precision in the combined\n",
    "    # score. 'beta < 1' lends more weight to precision, while 'beta > 1'\n",
    "    # favors recall ('beta -> 0' considers only precision, 'beta -> inf' only recall).\n",
    "    print('F-beta：')\n",
    "    for beta in np.logspace(-3, 3, num=7, base=10):\n",
    "        fbeta = fbeta_score(y_true, y_pred, beta=beta)\n",
    "        print('\\tbeta=%9.3f\\tF-beta=%.5f' % (beta, fbeta))\n",
    "        #print (1+beta**2)*precision*recall / (beta**2 * precision + recall)\n",
    "\n",
    "    print('precision_recall_fscore_support = \\n', precision_recall_fscore_support(y_true, y_pred, beta=1))\n",
    "    print('classification_report = \\n', classification_report(y_true, y_pred))"
   ]
  }
 ],
 "metadata": {
  "kernelspec": {
   "display_name": "Python 3",
   "language": "python",
   "name": "python3"
  },
  "language_info": {
   "codemirror_mode": {
    "name": "ipython",
    "version": 3
   },
   "file_extension": ".py",
   "mimetype": "text/x-python",
   "name": "python",
   "nbconvert_exporter": "python",
   "pygments_lexer": "ipython3",
   "version": "3.6.5"
  }
 },
 "nbformat": 4,
 "nbformat_minor": 2
}
