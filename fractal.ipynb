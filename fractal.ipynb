{
 "cells": [
  {
   "cell_type": "code",
   "execution_count": null,
   "metadata": {},
   "outputs": [],
   "source": [
    "import turtle\n",
    "def draw_branch(branch_length):\n",
    "    \"\"\"\n",
    "        绘制分形树\n",
    "    \"\"\"\n",
    "    if branch_length > 5:\n",
    "        # 绘制右侧树枝\n",
    "        turtle.forward(branch_length)\n",
    "        print('向前 ', branch_length)\n",
    "        turtle.right(20)\n",
    "        print('右转 20')\n",
    "        draw_branch(branch_length - 15)\n",
    "\n",
    "        # 绘制左侧树枝\n",
    "        turtle.left(40)\n",
    "        print('左转 40')\n",
    "        draw_branch(branch_length - 15)\n",
    "        \n",
    "        # 返回之前的树枝\n",
    "        turtle.right(20)\n",
    "        print('右转 20')\n",
    "        turtle.backward(branch_length)\n",
    "        print('向后 ', branch_length)"
   ]
  },
  {
   "cell_type": "code",
   "execution_count": null,
   "metadata": {},
   "outputs": [],
   "source": [
    "def main():\n",
    "    \"\"\"\n",
    "        主函数\n",
    "    \"\"\"\n",
    "    turtle.left(90)\n",
    "    turtle.penup()\n",
    "    turtle.backward(150)\n",
    "    turtle.pendown()\n",
    "    turtle.color('brown')\n",
    "    draw_branch(80)\n",
    "    turtle.exitonclick()\n",
    "\n",
    "if __name__ == '__main__':\n",
    "    main()"
   ]
  }
 ],
 "metadata": {
  "kernelspec": {
   "display_name": "Python 3",
   "language": "python",
   "name": "python3"
  },
  "language_info": {
   "codemirror_mode": {
    "name": "ipython",
    "version": 3
   },
   "file_extension": ".py",
   "mimetype": "text/x-python",
   "name": "python",
   "nbconvert_exporter": "python",
   "pygments_lexer": "ipython3",
   "version": "3.6.5"
  }
 },
 "nbformat": 4,
 "nbformat_minor": 2
}
